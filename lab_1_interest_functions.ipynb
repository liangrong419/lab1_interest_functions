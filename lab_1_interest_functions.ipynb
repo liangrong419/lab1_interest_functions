{
  "nbformat": 4,
  "nbformat_minor": 0,
  "metadata": {
    "kernelspec": {
      "display_name": "Python 3",
      "language": "python",
      "name": "python3"
    },
    "language_info": {
      "codemirror_mode": {
        "name": "ipython",
        "version": 3
      },
      "file_extension": ".py",
      "mimetype": "text/x-python",
      "name": "python",
      "nbconvert_exporter": "python",
      "pygments_lexer": "ipython3",
      "version": "3.7.2"
    },
    "colab": {
      "name": "lab_1_interest_functions.ipynb",
      "provenance": [],
      "include_colab_link": true
    }
  },
  "cells": [
    {
      "cell_type": "markdown",
      "metadata": {
        "id": "view-in-github",
        "colab_type": "text"
      },
      "source": [
        "<a href=\"https://colab.research.google.com/github/liangrong419/lab1_interest_functions/blob/master/lab_1_interest_functions.ipynb\" target=\"_parent\"><img src=\"https://colab.research.google.com/assets/colab-badge.svg\" alt=\"Open In Colab\"/></a>"
      ]
    },
    {
      "cell_type": "markdown",
      "metadata": {
        "id": "Mea88P3BYAXz",
        "colab_type": "text"
      },
      "source": [
        "## Lab 1 - Compound Interest Functions\n",
        "\n",
        "Below you will find a table of important formulae related to compound interest.  \n",
        "\n",
        "<img src=\"https://www.dummies.com/wp-content/uploads/251689.image0.jpg\" alt=\"image0.jpg\" width=\"400\" height=\"319\">\n",
        "\n",
        "In this lab, you will create functions for each of these using (and documenting) the following workflow.\n",
        "\n",
        "1. Work out the correct answer for a few examples. *Hint* Search for e.g. \"worked out compound interest examples\" on the web.\n",
        "2. Write a `lambda` function and test this function on your test cases.\n",
        "3. Convert the `lambda` function to a `def` statement with an informative doc string that follows the [Google formating rules](https://google.github.io/styleguide/pyguide.html#383-functions-and-methods).\n",
        "4. Write an automated test function (using your previous examples) that will test your `def` statement function each time the code is executed."
      ]
    },
    {
      "cell_type": "markdown",
      "metadata": {
        "id": "vw2TP3PpYAX0",
        "colab_type": "text"
      },
      "source": [
        "#### Problem 1 -- Apply the process to create a simple interest functions."
      ]
    },
    {
      "cell_type": "code",
      "metadata": {
        "id": "dqQ7XzIIYAX2",
        "colab_type": "code",
        "colab": {
          "base_uri": "https://localhost:8080/",
          "height": 34
        },
        "outputId": "3c48aa93-2565-4b1c-9634-840c0373a15e"
      },
      "source": [
        "simple_interest = lambda P, r, t: P*r*t\n",
        "simple_interest (100, 0.02, 2)"
      ],
      "execution_count": 1,
      "outputs": [
        {
          "output_type": "execute_result",
          "data": {
            "text/plain": [
              "4.0"
            ]
          },
          "metadata": {
            "tags": []
          },
          "execution_count": 1
        }
      ]
    },
    {
      "cell_type": "code",
      "metadata": {
        "id": "cjXuqnhsYMaM",
        "colab_type": "code",
        "colab": {}
      },
      "source": [
        "def simple_interest01(P, r, t):\n",
        "  \"\"\"calculating the simple interest\"\"\"\n",
        "  output = (P*r*t)\n",
        "  return output"
      ],
      "execution_count": 2,
      "outputs": []
    },
    {
      "cell_type": "code",
      "metadata": {
        "id": "W7rTCmQmYSt6",
        "colab_type": "code",
        "colab": {
          "base_uri": "https://localhost:8080/",
          "height": 34
        },
        "outputId": "d799465d-9038-44d5-a49c-740fb2e14f10"
      },
      "source": [
        "def test_simple_interest():\n",
        "  assert simple_interest01(200, 0.02, 2) == 4\n",
        "  assert simple_interest01(100, 0.02, 3) == 6\n",
        "test_simple_interest"
      ],
      "execution_count": 3,
      "outputs": [
        {
          "output_type": "execute_result",
          "data": {
            "text/plain": [
              "<function __main__.test_simple_interest>"
            ]
          },
          "metadata": {
            "tags": []
          },
          "execution_count": 3
        }
      ]
    },
    {
      "cell_type": "markdown",
      "metadata": {
        "id": "3NXcXHRNYAX7",
        "colab_type": "text"
      },
      "source": [
        "#### Problem 2 -- Apply the process to create a compound interest functions."
      ]
    },
    {
      "cell_type": "code",
      "metadata": {
        "id": "Ichrl2rbYAX8",
        "colab_type": "code",
        "colab": {
          "base_uri": "https://localhost:8080/",
          "height": 34
        },
        "outputId": "56fb640f-62ec-4587-bab5-8aaec53ea182"
      },
      "source": [
        "compound_interest = lambda P, r, n, t: P*((1+r/n)**n*t)\n",
        "compound_interest (100, 0.2, 2, 2)"
      ],
      "execution_count": 4,
      "outputs": [
        {
          "output_type": "execute_result",
          "data": {
            "text/plain": [
              "242.00000000000003"
            ]
          },
          "metadata": {
            "tags": []
          },
          "execution_count": 4
        }
      ]
    },
    {
      "cell_type": "code",
      "metadata": {
        "id": "xBuKmzHCYalo",
        "colab_type": "code",
        "colab": {}
      },
      "source": [
        "def compound_interest01 (P, r, n, t):\n",
        "  \"\"\"calculating the compound interest\"\"\"\n",
        "  output = P*((1+r/n)**n*t)\n",
        "  return output"
      ],
      "execution_count": 5,
      "outputs": []
    },
    {
      "cell_type": "code",
      "metadata": {
        "id": "W_GxB6zoYd_h",
        "colab_type": "code",
        "colab": {
          "base_uri": "https://localhost:8080/",
          "height": 34
        },
        "outputId": "d7c05cfb-f71c-41f4-be67-afbd1d12f828"
      },
      "source": [
        "def test_compound_interest():\n",
        "  assert compound_interest01(100, 0.2, 2, 3) == 103.886\n",
        "test_compound_interest"
      ],
      "execution_count": 6,
      "outputs": [
        {
          "output_type": "execute_result",
          "data": {
            "text/plain": [
              "<function __main__.test_compound_interest>"
            ]
          },
          "metadata": {
            "tags": []
          },
          "execution_count": 6
        }
      ]
    },
    {
      "cell_type": "markdown",
      "metadata": {
        "id": "T11JtcUIYAX_",
        "colab_type": "text"
      },
      "source": [
        "#### Problem 3 -- Apply the process to create a amortized loan payment function."
      ]
    },
    {
      "cell_type": "code",
      "metadata": {
        "id": "r0kFc5QuYAYA",
        "colab_type": "code",
        "colab": {
          "base_uri": "https://localhost:8080/",
          "height": 34
        },
        "outputId": "b7ace60c-d99c-46b1-bf57-84953a2d0a4d"
      },
      "source": [
        "amorized_loan_payment = lambda P, i, n: (P*i)/(1-(1+i)**-n)\n",
        "amorized_loan_payment (100, 0.2, 10)"
      ],
      "execution_count": 7,
      "outputs": [
        {
          "output_type": "execute_result",
          "data": {
            "text/plain": [
              "23.852275688285914"
            ]
          },
          "metadata": {
            "tags": []
          },
          "execution_count": 7
        }
      ]
    },
    {
      "cell_type": "code",
      "metadata": {
        "id": "3NO60XQJYmpx",
        "colab_type": "code",
        "colab": {}
      },
      "source": [
        "def amorized_loan_payment01(P, i, n):\n",
        "  \"\"\"calculating the amorized_loan_payment\"\"\"\n",
        "  output = (P*i)/(1-(1+i)**-n)\n",
        "  return output"
      ],
      "execution_count": 8,
      "outputs": []
    },
    {
      "cell_type": "code",
      "metadata": {
        "id": "CpZpBN2GYrM6",
        "colab_type": "code",
        "colab": {
          "base_uri": "https://localhost:8080/",
          "height": 34
        },
        "outputId": "191435bb-fa8e-4cc5-80e6-dac311696b40"
      },
      "source": [
        "def test_amorized_loan_payment01():\n",
        "  assert amorized_loan_payment01(100, 0.3, 10) == 32.346\n",
        "test_amorized_loan_payment01"
      ],
      "execution_count": 9,
      "outputs": [
        {
          "output_type": "execute_result",
          "data": {
            "text/plain": [
              "<function __main__.test_amorized_loan_payment01>"
            ]
          },
          "metadata": {
            "tags": []
          },
          "execution_count": 9
        }
      ]
    },
    {
      "cell_type": "markdown",
      "metadata": {
        "id": "Ek9bUfjxYAYH",
        "colab_type": "text"
      },
      "source": [
        "#### Problem 4 -- Apply the process to create a remaining balance function"
      ]
    },
    {
      "cell_type": "code",
      "metadata": {
        "id": "KRrFwpS-YAYI",
        "colab_type": "code",
        "colab": {
          "base_uri": "https://localhost:8080/",
          "height": 34
        },
        "outputId": "403c0f0f-5a53-487e-8fb8-9d02db3802c2"
      },
      "source": [
        "remaining_balance = lambda R, i, n, x: R*((1-(1+i)**-(n-x))/i)\n",
        "remaining_balance (100, 0.2, 10, 2)"
      ],
      "execution_count": 10,
      "outputs": [
        {
          "output_type": "execute_result",
          "data": {
            "text/plain": [
              "383.71598031931103"
            ]
          },
          "metadata": {
            "tags": []
          },
          "execution_count": 10
        }
      ]
    },
    {
      "cell_type": "code",
      "metadata": {
        "id": "_91ymapFYxcW",
        "colab_type": "code",
        "colab": {}
      },
      "source": [
        "def remaining_balance01(R, i, n, x):\n",
        "  \"\"\"calculating the remaining balance\"\"\"\n",
        "  output = R*((1-(1+i)**-(n-x))/i)\n",
        "  return output"
      ],
      "execution_count": 11,
      "outputs": []
    },
    {
      "cell_type": "code",
      "metadata": {
        "id": "r76fQQOEY1Gg",
        "colab_type": "code",
        "colab": {
          "base_uri": "https://localhost:8080/",
          "height": 34
        },
        "outputId": "314e3ffe-2dee-4055-e03a-4187659e002a"
      },
      "source": [
        "def test_remaning_balance01():\n",
        "  assert remaining_balance01 (100, 0.2, 10, 3) == 360.459\n",
        "test_remaning_balance01"
      ],
      "execution_count": 12,
      "outputs": [
        {
          "output_type": "execute_result",
          "data": {
            "text/plain": [
              "<function __main__.test_remaning_balance01>"
            ]
          },
          "metadata": {
            "tags": []
          },
          "execution_count": 12
        }
      ]
    },
    {
      "cell_type": "markdown",
      "metadata": {
        "id": "gdoWi67_YzGk",
        "colab_type": "text"
      },
      "source": [
        ""
      ]
    }
  ]
}